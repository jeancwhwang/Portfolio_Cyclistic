{
 "cells": [
  {
   "cell_type": "code",
   "execution_count": 1,
   "id": "7c93b3ee",
   "metadata": {},
   "outputs": [],
   "source": [
    "# Import liabaries\n",
    "\n",
    "import numpy as np\n",
    "import pandas as pd\n",
    "from matplotlib import pyplot as plt\n",
    "import scipy.stats as stats"
   ]
  },
  {
   "cell_type": "code",
   "execution_count": 2,
   "id": "0e8b102c",
   "metadata": {},
   "outputs": [
    {
     "name": "stdout",
     "output_type": "stream",
     "text": [
      "<class 'pandas.core.frame.DataFrame'>\n",
      "RangeIndex: 7 entries, 0 to 6\n",
      "Data columns (total 5 columns):\n",
      " #   Column            Non-Null Count  Dtype \n",
      "---  ------            --------------  ----- \n",
      " 0   member_casual     7 non-null      object\n",
      " 1   started_at_dow    7 non-null      int64 \n",
      " 2   started_dow_text  7 non-null      object\n",
      " 3   COUNT             7 non-null      int64 \n",
      " 4   Percent           7 non-null      object\n",
      "dtypes: int64(2), object(3)\n",
      "memory usage: 408.0+ bytes\n"
     ]
    }
   ],
   "source": [
    "# ------------To Perform Chi-Sqaure Test for Day of Qeek - Casual -----------------\n",
    "# Read file & show info\n",
    "\n",
    "casual_dow = pd.read_csv('C:/Users/ching/Portfolio/Portfolio_cyclistic/SQL_output/csv/Mode of start day_of_week - Casual.csv')\n",
    "casual_dow.info()"
   ]
  },
  {
   "cell_type": "code",
   "execution_count": 3,
   "id": "79ddd7a1",
   "metadata": {},
   "outputs": [
    {
     "name": "stdout",
     "output_type": "stream",
     "text": [
      "0    37005\n",
      "1    38825\n",
      "2    48387\n",
      "3    57978\n",
      "4    55868\n",
      "5    65137\n",
      "6    65851\n",
      "Name: COUNT, dtype: int64\n",
      "52721.57142857143\n"
     ]
    },
    {
     "data": {
      "text/plain": [
       "Power_divergenceResult(statistic=15609.713773977039, pvalue=0.0)"
      ]
     },
     "execution_count": 3,
     "metadata": {},
     "output_type": "execute_result"
    }
   ],
   "source": [
    "# Day of Week - Casual ; Reject null   \n",
    "\n",
    "observed = casual_dow['COUNT']\n",
    "print(observed)\n",
    "expected = casual_dow['COUNT'].sum()/7\n",
    "print(expected)\n",
    "\n",
    "\n",
    "stats.chisquare(f_obs= observed,   \n",
    "               f_exp= expected)   "
   ]
  },
  {
   "cell_type": "code",
   "execution_count": 4,
   "id": "b23a4313",
   "metadata": {},
   "outputs": [
    {
     "name": "stdout",
     "output_type": "stream",
     "text": [
      "<class 'pandas.core.frame.DataFrame'>\n",
      "RangeIndex: 7 entries, 0 to 6\n",
      "Data columns (total 5 columns):\n",
      " #   Column            Non-Null Count  Dtype \n",
      "---  ------            --------------  ----- \n",
      " 0   member_casual     7 non-null      object\n",
      " 1   started_at_dow    7 non-null      int64 \n",
      " 2   started_dow_text  7 non-null      object\n",
      " 3   COUNT             7 non-null      int64 \n",
      " 4   Percent           7 non-null      object\n",
      "dtypes: int64(2), object(3)\n",
      "memory usage: 408.0+ bytes\n"
     ]
    }
   ],
   "source": [
    "# ------------To Perform Chi-Sqaure Test for Day of Qeek - Member -----------------\n",
    "# Read file & show info\n",
    "\n",
    "member_dow = pd.read_csv('C:/Users/ching/Portfolio/Portfolio_cyclistic/SQL_output/csv/Mode of start day_of_week - Member .csv')\n",
    "member_dow.info()"
   ]
  },
  {
   "cell_type": "code",
   "execution_count": 5,
   "id": "1c3d00c5",
   "metadata": {},
   "outputs": [
    {
     "name": "stdout",
     "output_type": "stream",
     "text": [
      "0    46791\n",
      "1    54986\n",
      "2    68797\n",
      "3    73501\n",
      "4    57322\n",
      "5    49694\n",
      "6    49062\n",
      "Name: COUNT, dtype: int64\n",
      "57164.71428571428\n"
     ]
    },
    {
     "data": {
      "text/plain": [
       "Power_divergenceResult(statistic=11126.362536329852, pvalue=0.0)"
      ]
     },
     "execution_count": 5,
     "metadata": {},
     "output_type": "execute_result"
    }
   ],
   "source": [
    "# Day of Week - Member    \n",
    "\n",
    "observed = member_dow['COUNT']\n",
    "print(observed)\n",
    "expected = member_dow['COUNT'].sum()/7\n",
    "print(expected)\n",
    "\n",
    "\n",
    "stats.chisquare(f_obs= observed,   \n",
    "               f_exp= expected)   "
   ]
  },
  {
   "cell_type": "code",
   "execution_count": 6,
   "id": "3a393b20",
   "metadata": {},
   "outputs": [
    {
     "name": "stdout",
     "output_type": "stream",
     "text": [
      "<class 'pandas.core.frame.DataFrame'>\n",
      "RangeIndex: 24 entries, 0 to 23\n",
      "Data columns (total 3 columns):\n",
      " #   Column         Non-Null Count  Dtype \n",
      "---  ------         --------------  ----- \n",
      " 0   member_casual  24 non-null     object\n",
      " 1   start_hour     24 non-null     int64 \n",
      " 2   count          24 non-null     int64 \n",
      "dtypes: int64(2), object(1)\n",
      "memory usage: 704.0+ bytes\n"
     ]
    }
   ],
   "source": [
    "# ------------To Perform Chi-Sqaure Test for Popular Hours - Casual -----------------\n",
    "# Read file & show info\n",
    "\n",
    "casual_hour = pd.read_csv('C:/Users/ching/Portfolio/Portfolio_cyclistic/SQL_output/csv/Popular_hours_casual.csv')\n",
    "casual_hour.info()"
   ]
  },
  {
   "cell_type": "code",
   "execution_count": 7,
   "id": "a5a88082",
   "metadata": {},
   "outputs": [
    {
     "name": "stdout",
     "output_type": "stream",
     "text": [
      "0      7617\n",
      "1      4568\n",
      "2      2673\n",
      "3      1451\n",
      "4      1165\n",
      "5      1918\n",
      "6      4204\n",
      "7      7432\n",
      "8      9799\n",
      "9     10402\n",
      "10    13657\n",
      "11    17911\n",
      "12    21163\n",
      "13    21757\n",
      "14    23646\n",
      "15    26948\n",
      "16    31276\n",
      "17    36080\n",
      "18    33274\n",
      "19    27181\n",
      "20    21571\n",
      "21    16954\n",
      "22    15273\n",
      "23    11130\n",
      "Name: count, dtype: int64\n",
      "15377.083333333334\n"
     ]
    },
    {
     "data": {
      "text/plain": [
       "Power_divergenceResult(statistic=172014.57405771574, pvalue=0.0)"
      ]
     },
     "execution_count": 7,
     "metadata": {},
     "output_type": "execute_result"
    }
   ],
   "source": [
    "# Popular hours - Casual    \n",
    "\n",
    "observed = casual_hour['count']\n",
    "print(observed)\n",
    "expected = casual_hour['count'].sum()/24\n",
    "print(expected)\n",
    "\n",
    "\n",
    "stats.chisquare(f_obs= observed,   \n",
    "               f_exp= expected)   "
   ]
  },
  {
   "cell_type": "code",
   "execution_count": 42,
   "id": "7e6fd4d4",
   "metadata": {},
   "outputs": [
    {
     "data": {
      "image/png": "[encoded data removed]",
      "text/plain": [
       "<Figure size 1152x648 with 1 Axes>"
      ]
     },
     "metadata": {
      "needs_background": "light"
     },
     "output_type": "display_data"
    }
   ],
   "source": [
    "# Get bar chart - Casual\n",
    "\n",
    "casual_hour.head()\n",
    "df = pd.DataFrame(casual_hour)\n",
    " \n",
    "hour = df['start_hour'].head(24)\n",
    "count = df['count'].head(24)\n",
    "\n",
    "# Figure Size\n",
    "fig, ax = plt.subplots(figsize =(16, 9))\n",
    "\n",
    "\n",
    "# Horizontal Bar Plot\n",
    "plt.bar(hour[0:24], count[0:24])\n",
    "\n",
    "# Add Plot Title\n",
    "ax.set_title('Popular Times - Casual',\n",
    "             loc ='left', )\n",
    "# Show Plot\n",
    "plt.show()\n"
   ]
  },
  {
   "cell_type": "code",
   "execution_count": 8,
   "id": "c5b32974",
   "metadata": {},
   "outputs": [
    {
     "name": "stdout",
     "output_type": "stream",
     "text": [
      "<class 'pandas.core.frame.DataFrame'>\n",
      "RangeIndex: 24 entries, 0 to 23\n",
      "Data columns (total 3 columns):\n",
      " #   Column         Non-Null Count  Dtype \n",
      "---  ------         --------------  ----- \n",
      " 0   member_casual  24 non-null     object\n",
      " 1   start_hour     24 non-null     int64 \n",
      " 2   count          24 non-null     int64 \n",
      "dtypes: int64(2), object(1)\n",
      "memory usage: 704.0+ bytes\n"
     ]
    }
   ],
   "source": [
    "# ------------To Perform Chi-Sqaure Test for Popular Hours - Member -----------------\n",
    "# Read file & show info\n",
    "\n",
    "member_hour = pd.read_csv('C:/Users/ching/Portfolio/Portfolio_cyclistic/SQL_output/csv/Popular_hours_member.csv')\n",
    "member_hour.info()"
   ]
  },
  {
   "cell_type": "code",
   "execution_count": 9,
   "id": "d2203433",
   "metadata": {},
   "outputs": [
    {
     "name": "stdout",
     "output_type": "stream",
     "text": [
      "0      4649\n",
      "1      2592\n",
      "2      1529\n",
      "3       893\n",
      "4      1073\n",
      "5      4097\n",
      "6     11004\n",
      "7     20210\n",
      "8     22590\n",
      "9     15967\n",
      "10    14922\n",
      "11    18208\n",
      "12    20984\n",
      "13    20101\n",
      "14    20413\n",
      "15    24859\n",
      "16    34393\n",
      "17    42629\n",
      "18    35973\n",
      "19    27125\n",
      "20    20773\n",
      "21    15383\n",
      "22    12098\n",
      "23     7688\n",
      "Name: count, dtype: int64\n",
      "16673.041666666668\n"
     ]
    },
    {
     "data": {
      "text/plain": [
       "Power_divergenceResult(statistic=180483.6382658633, pvalue=0.0)"
      ]
     },
     "execution_count": 9,
     "metadata": {},
     "output_type": "execute_result"
    }
   ],
   "source": [
    "# Popular hours - Member    \n",
    "\n",
    "observed = member_hour['count']\n",
    "print(observed)\n",
    "expected = member_hour['count'].sum()/24\n",
    "print(expected)\n",
    "\n",
    "\n",
    "stats.chisquare(f_obs= observed,   \n",
    "               f_exp= expected)   "
   ]
  },
  {
   "cell_type": "code",
   "execution_count": 44,
   "id": "c94a157f",
   "metadata": {},
   "outputs": [
    {
     "data": {
      "image/png": "[encoded data removed]",
      "text/plain": [
       "<Figure size 1152x648 with 1 Axes>"
      ]
     },
     "metadata": {
      "needs_background": "light"
     },
     "output_type": "display_data"
    }
   ],
   "source": [
    "# Get bar chart - Member\n",
    "\n",
    "member_hour.head()\n",
    "df = pd.DataFrame(member_hour)\n",
    " \n",
    "hour = df['start_hour'].head(24)\n",
    "count = df['count'].head(24)\n",
    "\n",
    "# Figure Size\n",
    "fig, ax = plt.subplots(figsize =(16, 9))\n",
    "\n",
    "\n",
    "# Horizontal Bar Plot\n",
    "plt.bar(hour[0:24], count[0:24])\n",
    "\n",
    "# Add Plot Title\n",
    "ax.set_title('Popular Times - Member',\n",
    "             loc ='left', )\n",
    "# Show Plot\n",
    "plt.show()"
   ]
  },
  {
   "cell_type": "code",
   "execution_count": 10,
   "id": "6c10a11f",
   "metadata": {},
   "outputs": [
    {
     "name": "stdout",
     "output_type": "stream",
     "text": [
      "<class 'pandas.core.frame.DataFrame'>\n",
      "RangeIndex: 3 entries, 0 to 2\n",
      "Data columns (total 4 columns):\n",
      " #   Column         Non-Null Count  Dtype  \n",
      "---  ------         --------------  -----  \n",
      " 0   rideable_type  3 non-null      object \n",
      " 1   member_casual  3 non-null      object \n",
      " 2   count          3 non-null      int64  \n",
      " 3   Pct%           3 non-null      float64\n",
      "dtypes: float64(1), int64(1), object(2)\n",
      "memory usage: 224.0+ bytes\n"
     ]
    }
   ],
   "source": [
    "# ------------To Perform Chi-Sqaure Test for Rideable Type - Casual -----------------\n",
    "# Read file & show info\n",
    "\n",
    "casual_rideable_type = pd.read_csv('C:/Users/ching/Portfolio/Portfolio_cyclistic/SQL_output/csv/Rideable_Type_casual.csv')\n",
    "casual_rideable_type.info()"
   ]
  },
  {
   "cell_type": "code",
   "execution_count": 11,
   "id": "a9f84e93",
   "metadata": {},
   "outputs": [
    {
     "name": "stdout",
     "output_type": "stream",
     "text": [
      "0    169996\n",
      "1    168415\n",
      "2     30640\n",
      "Name: count, dtype: int64\n",
      "123017.0\n"
     ]
    },
    {
     "data": {
      "text/plain": [
       "Power_divergenceResult(statistic=104062.97482461773, pvalue=0.0)"
      ]
     },
     "execution_count": 11,
     "metadata": {},
     "output_type": "execute_result"
    }
   ],
   "source": [
    "# Rideable type - Casual    \n",
    "\n",
    "observed = casual_rideable_type['count']\n",
    "print(observed)\n",
    "expected = casual_rideable_type['count'].sum()/3\n",
    "print(expected)\n",
    "\n",
    "\n",
    "stats.chisquare(f_obs= observed,   \n",
    "               f_exp= expected)   "
   ]
  },
  {
   "cell_type": "code",
   "execution_count": 12,
   "id": "c4b2d4bf",
   "metadata": {},
   "outputs": [
    {
     "name": "stdout",
     "output_type": "stream",
     "text": [
      "<class 'pandas.core.frame.DataFrame'>\n",
      "RangeIndex: 2 entries, 0 to 1\n",
      "Data columns (total 4 columns):\n",
      " #   Column         Non-Null Count  Dtype  \n",
      "---  ------         --------------  -----  \n",
      " 0   rideable_type  2 non-null      object \n",
      " 1   member_casual  2 non-null      object \n",
      " 2   count          2 non-null      int64  \n",
      " 3   Pct%           2 non-null      float64\n",
      "dtypes: float64(1), int64(1), object(2)\n",
      "memory usage: 192.0+ bytes\n"
     ]
    }
   ],
   "source": [
    "# ------------To Perform Chi-Sqaure Test for Rideable Type - Member -----------------\n",
    "# Read file & show info\n",
    "\n",
    "member_rideable_type = pd.read_csv('C:/Users/ching/Portfolio/Portfolio_cyclistic/SQL_output/csv/Rideable_Type_member.csv')\n",
    "member_rideable_type.info()"
   ]
  },
  {
   "cell_type": "code",
   "execution_count": 13,
   "id": "f389605d",
   "metadata": {},
   "outputs": [
    {
     "name": "stdout",
     "output_type": "stream",
     "text": [
      "0    236664\n",
      "1    163489\n",
      "Name: count, dtype: int64\n",
      "200076.5\n"
     ]
    },
    {
     "data": {
      "text/plain": [
       "Power_divergenceResult(statistic=13381.333202550024, pvalue=0.0)"
      ]
     },
     "execution_count": 13,
     "metadata": {},
     "output_type": "execute_result"
    }
   ],
   "source": [
    "# Rideable type - Member    \n",
    "\n",
    "observed = member_rideable_type['count']\n",
    "print(observed)\n",
    "expected = member_rideable_type['count'].sum()/2\n",
    "print(expected)\n",
    "\n",
    "\n",
    "stats.chisquare(f_obs= observed,   \n",
    "               f_exp= expected)   "
   ]
  }
 ],
 "metadata": {
  "kernelspec": {
   "display_name": "Python 3 (ipykernel)",
   "language": "python",
   "name": "python3"
  },
  "language_info": {
   "codemirror_mode": {
    "name": "ipython",
    "version": 3
   },
   "file_extension": ".py",
   "mimetype": "text/x-python",
   "name": "python",
   "nbconvert_exporter": "python",
   "pygments_lexer": "ipython3",
   "version": "3.10.4"
  }
 },
 "nbformat": 4,
 "nbformat_minor": 5
}
